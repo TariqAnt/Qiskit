{
 "cells": [
  {
   "cell_type": "markdown",
   "id": "d2497f68-e565-4dec-8d5e-ec337e37128e",
   "metadata": {
    "id": "d2497f68-e565-4dec-8d5e-ec337e37128e"
   },
   "source": [
    "# Homework: Week #7 | Loops and Conditionals with Qiskit\n",
    "---\n",
    "\n",
    "### **Description**:  \n",
    "In this week's homework, you will continue practicing using loops and conditionals. This is structured as follows:\n",
    "\n",
    "**Part 0: Importing from Qiskit**\n",
    "\n",
    "**Part 1: Qiskit Review**\n",
    "\n",
    "**Part 2: Loops**\n",
    "\n",
    "**Part 3: Loops with Qiskit**\n",
    "\n",
    "**Part 4: Conditionals**\n",
    "\n",
    "**Part 5: Conditionals with Qiskit**\n",
    "\n",
    "<br>\n",
    "\n",
    "### **Cheat Sheets**:  \n",
    "\n",
    "[Qiskit Cheat Sheet](https://docs.google.com/document/d/1GArKBUksi4pMgcEBc4OpvWp2KREPpnQvq0AgyijJnkI/edit?usp=share_link)\n",
    "\n",
    "[Loops and Conditionals Cheat Sheet](https://docs.google.com/document/d/15ktjneYLNDPi53Y88xTqxHjk0a8BcBA1EKMNhn0EBtA/edit?usp=sharing)\n",
    "\n",
    "\n",
    "\n",
    "---"
   ]
  },
  {
   "cell_type": "markdown",
   "id": "k0Lsovb5VOKP",
   "metadata": {
    "id": "k0Lsovb5VOKP",
    "tags": []
   },
   "source": [
    "## **Part 0: Importing from Qiskit**\n",
    "---\n",
    "\n",
    "Run the cell directly below before doing anything else. This will import all of the functions that we will use today."
   ]
  },
  {
   "cell_type": "code",
   "execution_count": 1,
   "id": "LxC62c-hRcYv",
   "metadata": {
    "id": "LxC62c-hRcYv"
   },
   "outputs": [
    {
     "name": "stdout",
     "output_type": "stream",
     "text": [
      "Libraries imported successfully!\n"
     ]
    }
   ],
   "source": [
    "# Importing standard Qiskit libraries\n",
    "from qiskit import QuantumCircuit  #Importing the QuantumCircuit function from Qiskit. We will use this to create our quantum circuits!\n",
    "\n",
    "# We will use these functions to run our circuit and visualize its final state\n",
    "from qiskit import Aer, execute \n",
    "from qiskit.visualization import *\n",
    "\n",
    "import warnings  # We are using this library to suppress some warning messages\n",
    "warnings.filterwarnings(\"ignore\")\n",
    "\n",
    "print(\"Libraries imported successfully!\")"
   ]
  },
  {
   "cell_type": "markdown",
   "id": "sVwVviQORgWa",
   "metadata": {
    "id": "sVwVviQORgWa",
    "tags": []
   },
   "source": [
    "## **Part 1: Qiskit Review**\n",
    "---"
   ]
  },
  {
   "cell_type": "markdown",
   "id": "K6XmrePfhCLo",
   "metadata": {
    "id": "K6XmrePfhCLo"
   },
   "source": [
    "#### **Exercise #1** \n",
    "\n",
    "Create and draw a 1-qubit/1-classical bit circuit with 1 X, 1 H gate, and a measurement at the end. Then, simulate this circuit using the code provided."
   ]
  },
  {
   "cell_type": "code",
   "execution_count": 2,
   "id": "9QAVDb6IhGcs",
   "metadata": {
    "id": "9QAVDb6IhGcs"
   },
   "outputs": [
    {
     "data": {
      "image/png": "[encoded data removed]",
      "text/plain": [
       "<Figure size 253.926x144.48 with 1 Axes>"
      ]
     },
     "execution_count": 2,
     "metadata": {},
     "output_type": "execute_result"
    }
   ],
   "source": [
    "qc = QuantumCircuit(1,1)\n",
    "    # COMPLETE THIS LINE\n",
    "qc.x(0)\n",
    "qc.h(0)\n",
    "# ADD GATES\n",
    "\n",
    "qc.measure(0, 0)\n",
    "\n",
    "qc.draw()"
   ]
  },
  {
   "cell_type": "markdown",
   "id": "NORuGA8iTjwj",
   "metadata": {
    "id": "NORuGA8iTjwj"
   },
   "source": [
    "**Run the code below to simulate the measurement results using QASM.**"
   ]
  },
  {
   "cell_type": "code",
   "execution_count": 3,
   "id": "3m2fmwqTTjwk",
   "metadata": {
    "id": "3m2fmwqTTjwk"
   },
   "outputs": [
    {
     "data": {
      "image/png": "[encoded data removed]",
      "text/plain": [
       "<Figure size 504x360 with 1 Axes>"
      ]
     },
     "execution_count": 3,
     "metadata": {},
     "output_type": "execute_result"
    }
   ],
   "source": [
    "# Simulate using QASM\n",
    "backend = Aer.get_backend('qasm_simulator')\n",
    "job = execute(qc, backend = backend, shots = 1024)  # Make sure you change \"qc\" to the name of your quantum circuit in this line!\n",
    "result = job.result()\n",
    "counts = result.get_counts()\n",
    "plot_histogram(counts)"
   ]
  },
  {
   "cell_type": "markdown",
   "id": "1wgAAT45hRE5",
   "metadata": {
    "id": "1wgAAT45hRE5"
   },
   "source": [
    "#### **Exercise #2**\n",
    "\n",
    "Create and draw a 2-qubit/2-classical bit circuit gates applied as described below and a measurement at the end. Then, simulate this circuit using the code provided.\n",
    "\n",
    "**Gates**:\n",
    "\n",
    "H on qubit 0\n",
    "\n",
    "H on qubit 1\n",
    "\n",
    "Z on qubit 1"
   ]
  },
  {
   "cell_type": "code",
   "execution_count": 4,
   "id": "4XrFIeHuhXiV",
   "metadata": {
    "id": "4XrFIeHuhXiV"
   },
   "outputs": [
    {
     "data": {
      "image/png": "[encoded data removed]",
      "text/plain": [
       "<Figure size 327.252x204.68 with 1 Axes>"
      ]
     },
     "execution_count": 4,
     "metadata": {},
     "output_type": "execute_result"
    }
   ],
   "source": [
    "qc = QuantumCircuit(2, 2)\n",
    "\n",
    "# ADD GATES\n",
    "qc.h(0)\n",
    "qc.h(1)\n",
    "qc.z(1)\n",
    "# COMPLETE THIS LINE TO MEASURE\n",
    "qc.measure([0,1],[0,1])\n",
    "qc.draw()"
   ]
  },
  {
   "cell_type": "markdown",
   "id": "TYPbF0pbh2DM",
   "metadata": {
    "id": "TYPbF0pbh2DM"
   },
   "source": [
    "**Run the code below to simulate the measurement results using QASM.**"
   ]
  },
  {
   "cell_type": "code",
   "execution_count": 5,
   "id": "GJdKzNEMh75k",
   "metadata": {
    "id": "GJdKzNEMh75k"
   },
   "outputs": [
    {
     "data": {
      "image/png": "[encoded data removed]",
      "text/plain": [
       "<Figure size 504x360 with 1 Axes>"
      ]
     },
     "execution_count": 5,
     "metadata": {},
     "output_type": "execute_result"
    }
   ],
   "source": [
    "# Simulate using QASM\n",
    "backend = Aer.get_backend('qasm_simulator')\n",
    "job = execute(qc, backend = backend, shots = 1024)  # Make sure you change \"qc\" to the name of your quantum circuit in this line!\n",
    "result = job.result()\n",
    "counts = result.get_counts()\n",
    "plot_histogram(counts)"
   ]
  },
  {
   "cell_type": "markdown",
   "id": "mXVzO4hMjcdF",
   "metadata": {
    "id": "mXVzO4hMjcdF"
   },
   "source": [
    "#### **Exercise #3**\n",
    "\n",
    "Create and draw a 2-qubit/2-classical bit circuit gates applied as described below and a measurement at the end. Then, simulate this circuit using the code provided.\n",
    "\n",
    "**Gates**:\n",
    "\n",
    "H on qubit 0\n",
    "\n",
    "H on qubit 1\n",
    "\n",
    "CX with qubit 0 as the control and qubit 1 as the target\n"
   ]
  },
  {
   "cell_type": "code",
   "execution_count": 2,
   "id": "Vgp3R3E0jcdQ",
   "metadata": {
    "id": "Vgp3R3E0jcdQ"
   },
   "outputs": [
    {
     "data": {
      "image/png": "[encoded data removed]",
      "text/plain": [
       "<Figure size 327.252x204.68 with 1 Axes>"
      ]
     },
     "execution_count": 2,
     "metadata": {},
     "output_type": "execute_result"
    }
   ],
   "source": [
    "qc = QuantumCircuit(2, 2)\n",
    "\n",
    "# ADD GATES\n",
    "qc.h(0)\n",
    "qc.h(1)\n",
    "qc.cx(0,1)\n",
    "# COMPLETE THIS LINE TO MEASURE\n",
    "qc.measure([0,1],[0,1])\n",
    "qc.draw()"
   ]
  },
  {
   "cell_type": "markdown",
   "id": "_Eek98USjcdR",
   "metadata": {
    "id": "_Eek98USjcdR"
   },
   "source": [
    "**Run the code below to simulate the measurement results using QASM.**"
   ]
  },
  {
   "cell_type": "code",
   "execution_count": 3,
   "id": "dPAQpy5yjcdR",
   "metadata": {
    "id": "dPAQpy5yjcdR"
   },
   "outputs": [
    {
     "data": {
      "image/png": "[encoded data removed]",
      "text/plain": [
       "<Figure size 504x360 with 1 Axes>"
      ]
     },
     "execution_count": 3,
     "metadata": {},
     "output_type": "execute_result"
    }
   ],
   "source": [
    "# Simulate using QASM\n",
    "backend = Aer.get_backend('qasm_simulator')\n",
    "job = execute(qc, backend = backend, shots = 1024)  # Make sure you change \"qc\" to the name of your quantum circuit in this line!\n",
    "result = job.result()\n",
    "counts = result.get_counts()\n",
    "plot_histogram(counts)"
   ]
  },
  {
   "cell_type": "markdown",
   "id": "IH6FYyTtjmnm",
   "metadata": {
    "id": "IH6FYyTtjmnm"
   },
   "source": [
    "#### **Exercise #4**\n",
    "\n",
    "Create and draw a 2-qubit/2-classical bit circuit gates applied as described below and a measurement at the end. Then, simulate this circuit using the code provided.\n",
    "\n",
    "**Gates**:\n",
    "\n",
    "H on qubit 0\n",
    "\n",
    "H on qubit 1\n",
    "\n",
    "CX with qubit 0 as the control and qubit 1 as the target\n",
    "\n",
    "H on qubit 0\n",
    "\n",
    "H on qubit 1\n",
    "\n",
    "<br>\n",
    "\n",
    "\n",
    "**Fun fact: It turns out that this circuit is equivalent in all cases to just applying a single CX gate with the control and target qubits flipped!**\n"
   ]
  },
  {
   "cell_type": "code",
   "execution_count": 4,
   "id": "xepL9JjDjmnn",
   "metadata": {
    "id": "xepL9JjDjmnn"
   },
   "outputs": [
    {
     "data": {
      "image/png": "[encoded data removed]",
      "text/plain": [
       "<Figure size 387.452x204.68 with 1 Axes>"
      ]
     },
     "execution_count": 4,
     "metadata": {},
     "output_type": "execute_result"
    }
   ],
   "source": [
    "qc = QuantumCircuit(2, 2)\n",
    "\n",
    "# ADD GATES\n",
    "qc.h(0)\n",
    "qc.h(1)\n",
    "qc.cx(0,1)\n",
    "qc.h(0)\n",
    "qc.h(1)\n",
    "# COMPLETE THIS LINE TO MEASURE\n",
    "qc.measure([0,1],[0,1])\n",
    "qc.draw()"
   ]
  },
  {
   "cell_type": "markdown",
   "id": "-shitEoGjmnn",
   "metadata": {
    "id": "-shitEoGjmnn"
   },
   "source": [
    "**Run the code below to simulate the measurement results using QASM.**"
   ]
  },
  {
   "cell_type": "code",
   "execution_count": 5,
   "id": "LLrBhANXjmnn",
   "metadata": {
    "id": "LLrBhANXjmnn"
   },
   "outputs": [
    {
     "data": {
      "image/png": "[encoded data removed]",
      "text/plain": [
       "<Figure size 504x360 with 1 Axes>"
      ]
     },
     "execution_count": 5,
     "metadata": {},
     "output_type": "execute_result"
    }
   ],
   "source": [
    "# Simulate using QASM\n",
    "backend = Aer.get_backend('qasm_simulator')\n",
    "job = execute(qc, backend = backend, shots = 1024)  # Make sure you change \"qc\" to the name of your quantum circuit in this line!\n",
    "result = job.result()\n",
    "counts = result.get_counts()\n",
    "plot_histogram(counts)"
   ]
  },
  {
   "cell_type": "markdown",
   "id": "kKl2QrLMjyFg",
   "metadata": {
    "id": "kKl2QrLMjyFg"
   },
   "source": [
    "#### **Exercise #5**\n",
    "\n",
    "Create and draw a 3-qubit/3-classical bit circuit gates applied as described below and a measurement at the end. Then, simulate this circuit using the code provided.\n",
    "\n",
    "**Gates**:\n",
    "\n",
    "H on qubit 0\n",
    "\n",
    "H on qubit 1\n",
    "\n",
    "CX with qubit 0 as the control and qubit 1 as the target\n",
    "\n",
    "CX with qubit 1 as the control and qubit 2 as the target\n",
    "\n",
    "CX with qubit 2 as the control and qubit 0 as the target\n"
   ]
  },
  {
   "cell_type": "code",
   "execution_count": 6,
   "id": "qHh4Y4DAjyFh",
   "metadata": {
    "id": "qHh4Y4DAjyFh"
   },
   "outputs": [
    {
     "data": {
      "image/png": "[encoded data removed]",
      "text/plain": [
       "<Figure size 447.797x264.88 with 1 Axes>"
      ]
     },
     "execution_count": 6,
     "metadata": {},
     "output_type": "execute_result"
    }
   ],
   "source": [
    "qc = QuantumCircuit(3,3)\n",
    "\n",
    "# ADD GATES\n",
    "qc.h(0)\n",
    "qc.h(1)\n",
    "qc.cx(0,1)\n",
    "qc.cx(1,2)\n",
    "qc.cx(2,0)\n",
    "# COMPLETE THIS LINE TO MEASURE\n",
    "qc.measure([0,1],[0,1])\n",
    "qc.draw()"
   ]
  },
  {
   "cell_type": "markdown",
   "id": "5KuWZ0s2jyFh",
   "metadata": {
    "id": "5KuWZ0s2jyFh"
   },
   "source": [
    "**Run the code below to simulate the measurement results using QASM.**"
   ]
  },
  {
   "cell_type": "code",
   "execution_count": 7,
   "id": "CuHc1ciWjyFh",
   "metadata": {
    "id": "CuHc1ciWjyFh"
   },
   "outputs": [
    {
     "data": {
      "image/png": "[encoded data removed]",
      "text/plain": [
       "<Figure size 504x360 with 1 Axes>"
      ]
     },
     "execution_count": 7,
     "metadata": {},
     "output_type": "execute_result"
    }
   ],
   "source": [
    "# Simulate using QASM\n",
    "backend = Aer.get_backend('qasm_simulator')\n",
    "job = execute(qc, backend = backend, shots = 1024)  # Make sure you change \"qc\" to the name of your quantum circuit in this line!\n",
    "result = job.result()\n",
    "counts = result.get_counts()\n",
    "plot_histogram(counts)"
   ]
  },
  {
   "cell_type": "markdown",
   "id": "ybaOxvqDXoek",
   "metadata": {
    "id": "ybaOxvqDXoek",
    "tags": []
   },
   "source": [
    "## **Part 2: Loops**\n",
    "---"
   ]
  },
  {
   "cell_type": "markdown",
   "id": "yhG_QPKdXrIs",
   "metadata": {
    "id": "yhG_QPKdXrIs"
   },
   "source": [
    "#### **Exercise #1** \n",
    "\n",
    "Write code that prints the numbers 0 through 14 using a loop"
   ]
  },
  {
   "cell_type": "code",
   "execution_count": 13,
   "id": "5t43N_woXrIt",
   "metadata": {
    "id": "5t43N_woXrIt"
   },
   "outputs": [
    {
     "name": "stdout",
     "output_type": "stream",
     "text": [
      "0\n",
      "1\n",
      "2\n",
      "3\n",
      "4\n",
      "5\n",
      "6\n",
      "7\n",
      "8\n",
      "9\n",
      "10\n",
      "11\n",
      "12\n",
      "13\n",
      "14\n"
     ]
    }
   ],
   "source": [
    "for i in range(15):\n",
    "\n",
    "    # COMPLETE THIS LINE\n",
    "    print(i)"
   ]
  },
  {
   "cell_type": "markdown",
   "id": "Od8wuErkX2OZ",
   "metadata": {
    "id": "Od8wuErkX2OZ"
   },
   "source": [
    "#### **Exercise #2** \n",
    "\n",
    "Write code that prints all 7 elements from the provided list."
   ]
  },
  {
   "cell_type": "code",
   "execution_count": 14,
   "id": "XxB6nL_mX2Oa",
   "metadata": {
    "id": "XxB6nL_mX2Oa"
   },
   "outputs": [
    {
     "name": "stdout",
     "output_type": "stream",
     "text": [
      "Q\n",
      "u\n",
      "a\n",
      "n\n",
      "t\n",
      "u\n",
      "m\n"
     ]
    }
   ],
   "source": [
    "my_list = [\"Q\", \"u\", \"a\", \"n\", \"t\", \"u\", \"m\"]\n",
    "\n",
    "for i in range(7):\n",
    "    print(my_list[i])\n",
    "  # COMPLETE THIS LINE"
   ]
  },
  {
   "cell_type": "markdown",
   "id": "26y-ECNuYsUy",
   "metadata": {
    "id": "26y-ECNuYsUy"
   },
   "source": [
    "#### **Exercise #3** \n",
    "\n",
    "Write code that prints the first 5 elements from this list."
   ]
  },
  {
   "cell_type": "code",
   "execution_count": 15,
   "id": "x-aaqOIfYsUz",
   "metadata": {
    "id": "x-aaqOIfYsUz"
   },
   "outputs": [
    {
     "name": "stdout",
     "output_type": "stream",
     "text": [
      "3\n",
      ".\n",
      "1\n",
      "4\n",
      "1\n"
     ]
    }
   ],
   "source": [
    "my_list = [3, \".\", 1, 4, 1, 5, 9, 2, 6, 5, 3, 5, 9]\n",
    "for i in range(5):\n",
    "    print(my_list[i])\n",
    "# COMPLETE THIS CODE"
   ]
  },
  {
   "cell_type": "markdown",
   "id": "DlRpmSLUY-iT",
   "metadata": {
    "id": "DlRpmSLUY-iT"
   },
   "source": [
    "#### **Exercise #4** \n",
    "\n",
    "Complete the code below to add together all 10 elements of the provided list and print the result."
   ]
  },
  {
   "cell_type": "code",
   "execution_count": 16,
   "id": "rwCx3BzFY-iU",
   "metadata": {
    "id": "rwCx3BzFY-iU"
   },
   "outputs": [
    {
     "name": "stdout",
     "output_type": "stream",
     "text": [
      "88\n"
     ]
    }
   ],
   "source": [
    "my_list = [0, 1, 1, 2, 3, 5, 8, 13, 21, 34]\n",
    "total = 0\n",
    "for i in range(len(my_list)):\n",
    "    total = total+my_list[i]\n",
    "    \n",
    "print(total)\n",
    "# COMPLETE THIS CODE"
   ]
  },
  {
   "cell_type": "markdown",
   "id": "lZL75OwssIpX",
   "metadata": {
    "id": "lZL75OwssIpX"
   },
   "source": [
    "#### **Exercise #5** \n",
    "\n",
    "Complete the code below to subtract 10 from every element of the list. Print the list in the end."
   ]
  },
  {
   "cell_type": "code",
   "execution_count": 17,
   "id": "UMLyJCyKsIpg",
   "metadata": {
    "id": "UMLyJCyKsIpg"
   },
   "outputs": [
    {
     "name": "stdout",
     "output_type": "stream",
     "text": [
      "-10\n",
      "-9\n",
      "-8\n",
      "-7\n",
      "-6\n",
      "-5\n",
      "-4\n",
      "-3\n",
      "-2\n",
      "-1\n"
     ]
    }
   ],
   "source": [
    "my_list = [0, 1, 1, 2, 3, 5, 8, 13, 21, 34]\n",
    "for i in range(len(my_list)):\n",
    "    j= i-10\n",
    "    print(j)\n",
    "    j=0\n",
    "# COMPLETE THIS CODE"
   ]
  },
  {
   "cell_type": "markdown",
   "id": "Djw-XAXloZ5h",
   "metadata": {
    "id": "Djw-XAXloZ5h",
    "tags": []
   },
   "source": [
    "## **Part 3: Loops with Qiskit**\n",
    "---"
   ]
  },
  {
   "cell_type": "markdown",
   "id": "GI8oSqB0dWvV",
   "metadata": {
    "id": "GI8oSqB0dWvV"
   },
   "source": [
    "#### **Exercise #1** \n",
    "\n",
    "Create and draw a 4-qubit/4-classical bit quantum circuit where you apply an H gate to each qubit using a for loop and measure all the bits."
   ]
  },
  {
   "cell_type": "code",
   "execution_count": 19,
   "id": "o0adADcodWvf",
   "metadata": {
    "id": "o0adADcodWvf"
   },
   "outputs": [
    {
     "data": {
      "image/png": "[encoded data removed]",
      "text/plain": [
       "<Figure size 387.597x325.08 with 1 Axes>"
      ]
     },
     "execution_count": 19,
     "metadata": {},
     "output_type": "execute_result"
    }
   ],
   "source": [
    "qc = QuantumCircuit(4, 4)\n",
    "\n",
    "for qubit in range(4):\n",
    "    qc.h(qubit)\n",
    "    qc.measure(qubit,qubit)\n",
    "  # COMPLETE THIS LINE\n",
    "\n",
    "# COMPLETE THIS LINE TO MEASURE\n",
    "qc.draw()"
   ]
  },
  {
   "cell_type": "markdown",
   "id": "McGy3v9TenVq",
   "metadata": {
    "id": "McGy3v9TenVq"
   },
   "source": [
    "**Run the code below to simulate the measurement results using QASM.**"
   ]
  },
  {
   "cell_type": "code",
   "execution_count": 20,
   "id": "MtwxlTuAenVz",
   "metadata": {
    "id": "MtwxlTuAenVz"
   },
   "outputs": [
    {
     "data": {
      "image/png": "[encoded data removed]",
      "text/plain": [
       "<Figure size 504x360 with 1 Axes>"
      ]
     },
     "execution_count": 20,
     "metadata": {},
     "output_type": "execute_result"
    }
   ],
   "source": [
    "# Simulate using QASM\n",
    "backend = Aer.get_backend('qasm_simulator')\n",
    "job = execute(qc, backend = backend, shots = 1024)  # Make sure you change \"qc\" to the name of your quantum circuit in this line!\n",
    "result = job.result()\n",
    "counts = result.get_counts()\n",
    "plot_histogram(counts)"
   ]
  },
  {
   "cell_type": "markdown",
   "id": "KGeOs-vylXqG",
   "metadata": {
    "id": "KGeOs-vylXqG"
   },
   "source": [
    "#### **Exercise #2** \n",
    "\n",
    "Create and draw a 4-qubit/4-classical bit quantum circuit where you apply an H and then Z gate to each qubit using a for loop and measure all the bits. Be careful of indentation!"
   ]
  },
  {
   "cell_type": "code",
   "execution_count": 21,
   "id": "V0DV-4OVlXqH",
   "metadata": {
    "id": "V0DV-4OVlXqH"
   },
   "outputs": [
    {
     "data": {
      "image/png": "[encoded data removed]",
      "text/plain": [
       "<Figure size 447.797x325.08 with 1 Axes>"
      ]
     },
     "execution_count": 21,
     "metadata": {},
     "output_type": "execute_result"
    }
   ],
   "source": [
    "qc = QuantumCircuit(4, 4)\n",
    "\n",
    "for qubit in range(4):\n",
    "    qc.h(qubit)\n",
    "    qc.z(qubit)\n",
    "    qc.measure(qubit,qubit)\n",
    "  # COMPLETE THIS LINE\n",
    "\n",
    "# COMPLETE THIS LINE TO MEASURE\n",
    "qc.draw()"
   ]
  },
  {
   "cell_type": "markdown",
   "id": "8Lop9ZgTlXqH",
   "metadata": {
    "id": "8Lop9ZgTlXqH"
   },
   "source": [
    "**Run the code below to simulate the measurement results using QASM.**"
   ]
  },
  {
   "cell_type": "code",
   "execution_count": 22,
   "id": "FFOwlJzwlXqH",
   "metadata": {
    "id": "FFOwlJzwlXqH"
   },
   "outputs": [
    {
     "data": {
      "image/png": "[encoded data removed]",
      "text/plain": [
       "<Figure size 504x360 with 1 Axes>"
      ]
     },
     "execution_count": 22,
     "metadata": {},
     "output_type": "execute_result"
    }
   ],
   "source": [
    "# Simulate using QASM\n",
    "backend = Aer.get_backend('qasm_simulator')\n",
    "job = execute(qc, backend = backend, shots = 1024)  # Make sure you change \"qc\" to the name of your quantum circuit in this line!\n",
    "result = job.result()\n",
    "counts = result.get_counts()\n",
    "plot_histogram(counts)"
   ]
  },
  {
   "cell_type": "markdown",
   "id": "J51TKiVSe3uU",
   "metadata": {
    "id": "J51TKiVSe3uU"
   },
   "source": [
    "#### **Exercise #3** \n",
    "\n",
    "Create and draw a 4-qubit/4-classical bit quantum circuit where you apply an X, H, and then Z gate to each qubit using a for loop and measure all the bits."
   ]
  },
  {
   "cell_type": "code",
   "execution_count": 23,
   "id": "2kW-4Cu4e3uV",
   "metadata": {
    "id": "2kW-4Cu4e3uV"
   },
   "outputs": [
    {
     "data": {
      "image/png": "[encoded data removed]",
      "text/plain": [
       "<Figure size 507.997x325.08 with 1 Axes>"
      ]
     },
     "execution_count": 23,
     "metadata": {},
     "output_type": "execute_result"
    }
   ],
   "source": [
    "qc = QuantumCircuit(4, 4)\n",
    "\n",
    "for qubit in range(4):\n",
    "    qc.x(qubit)\n",
    "    qc.h(qubit)\n",
    "    qc.z(qubit)\n",
    "    qc.measure(qubit,qubit)\n",
    "  # COMPLETE THIS LINE\n",
    "\n",
    "# COMPLETE THIS LINE TO MEASURE\n",
    "qc.draw()"
   ]
  },
  {
   "cell_type": "markdown",
   "id": "m4qGDuLne3uW",
   "metadata": {
    "id": "m4qGDuLne3uW"
   },
   "source": [
    "**Run the code below to simulate the measurement results using QASM.**"
   ]
  },
  {
   "cell_type": "code",
   "execution_count": 24,
   "id": "ebvEoU0ge3uW",
   "metadata": {
    "id": "ebvEoU0ge3uW"
   },
   "outputs": [
    {
     "data": {
      "image/png": "[encoded data removed]",
      "text/plain": [
       "<Figure size 504x360 with 1 Axes>"
      ]
     },
     "execution_count": 24,
     "metadata": {},
     "output_type": "execute_result"
    }
   ],
   "source": [
    "# Simulate using QASM\n",
    "backend = Aer.get_backend('qasm_simulator')\n",
    "job = execute(qc, backend = backend, shots = 1024)  # Make sure you change \"qc\" to the name of your quantum circuit in this line!\n",
    "result = job.result()\n",
    "counts = result.get_counts()\n",
    "plot_histogram(counts)"
   ]
  },
  {
   "cell_type": "markdown",
   "id": "hSaZLSc4fkWm",
   "metadata": {
    "id": "hSaZLSc4fkWm"
   },
   "source": [
    "#### **Exercise #4** \n",
    "\n",
    "Create and draw a 4-qubit/4-classical bit quantum circuit where you apply the gates listed below using a loop and measure.\n",
    "\n",
    "\n",
    "CX with qubit 0 as the control and qubit 1 as the target\n",
    "\n",
    "CX with qubit 1 as the control and qubit 2 as the target\n",
    "\n",
    "CX with qubit 2 as the control and qubit 3 as the target\n",
    "\n",
    "<br>\n",
    "\n",
    "\n",
    "**NOTE: Be careful of going over the number of qubits in the loop.**"
   ]
  },
  {
   "cell_type": "code",
   "execution_count": 26,
   "id": "uCgujZbYfkWx",
   "metadata": {
    "id": "uCgujZbYfkWx"
   },
   "outputs": [
    {
     "data": {
      "image/png": "[encoded data removed]",
      "text/plain": [
       "<Figure size 447.797x325.08 with 1 Axes>"
      ]
     },
     "execution_count": 26,
     "metadata": {},
     "output_type": "execute_result"
    }
   ],
   "source": [
    "qc = QuantumCircuit(4, 4)\n",
    "\n",
    "for qubit in range(3):\n",
    "    qc.cx(qubit,qubit+1)\n",
    "    qc.measure(qubit,qubit)\n",
    "  # COMPLETE THIS LINE\n",
    "\n",
    "# COMPLETE THIS LINE TO MEASURE\n",
    "qc.draw()"
   ]
  },
  {
   "cell_type": "markdown",
   "id": "0EFPjYTOfkWx",
   "metadata": {
    "id": "0EFPjYTOfkWx"
   },
   "source": [
    "**Run the code below to simulate the measurement results using QASM.**"
   ]
  },
  {
   "cell_type": "code",
   "execution_count": 27,
   "id": "NWuamQPPfkWx",
   "metadata": {
    "id": "NWuamQPPfkWx"
   },
   "outputs": [
    {
     "data": {
      "image/png": "[encoded data removed]",
      "text/plain": [
       "<Figure size 504x360 with 1 Axes>"
      ]
     },
     "execution_count": 27,
     "metadata": {},
     "output_type": "execute_result"
    }
   ],
   "source": [
    "# Simulate using QASM\n",
    "backend = Aer.get_backend('qasm_simulator')\n",
    "job = execute(qc, backend = backend, shots = 1024)  # Make sure you change \"qc\" to the name of your quantum circuit in this line!\n",
    "result = job.result()\n",
    "counts = result.get_counts()\n",
    "plot_histogram(counts)"
   ]
  },
  {
   "cell_type": "markdown",
   "id": "B98xsZf7mERY",
   "metadata": {
    "id": "B98xsZf7mERY"
   },
   "source": [
    "#### **Exercise #5** \n",
    "\n",
    "Create and draw a 5-qubit/5-classical bit quantum circuit where you apply the gates listed below using a loop and measure.\n",
    "\n",
    "\n",
    "H gate on qubit 0\n",
    "\n",
    "CX with qubit 0 as the control and qubit 1 as the target\n",
    "\n",
    "<br>\n",
    "\n",
    "H gate on qubit 1\n",
    "\n",
    "CX with qubit 1 as the control and qubit 2 as the target\n",
    "\n",
    "<br>\n",
    "\n",
    "H gate on qubit 2\n",
    "\n",
    "CX with qubit 2 as the control and qubit 3 as the target\n",
    "\n",
    "<br>\n",
    "\n",
    "\n",
    "**NOTE: Be careful of going over the number of qubits in the loop.**"
   ]
  },
  {
   "cell_type": "code",
   "execution_count": 28,
   "id": "sWVrs3Z_mERY",
   "metadata": {
    "id": "sWVrs3Z_mERY"
   },
   "outputs": [
    {
     "data": {
      "image/png": "[encoded data removed]",
      "text/plain": [
       "<Figure size 628.397x385.28 with 1 Axes>"
      ]
     },
     "execution_count": 28,
     "metadata": {},
     "output_type": "execute_result"
    }
   ],
   "source": [
    "qc = QuantumCircuit(5,5)\n",
    "\n",
    "for qubit in range(3):\n",
    "    qc.h(qubit)\n",
    "    qc.cx(qubit,qubit+1)\n",
    "    qc.measure(qubit,qubit)\n",
    "  # COMPLETE THIS LINE\n",
    "\n",
    "# COMPLETE THIS LINE TO MEASURE\n",
    "qc.draw()"
   ]
  },
  {
   "cell_type": "markdown",
   "id": "GYtyqie2mERY",
   "metadata": {
    "id": "GYtyqie2mERY"
   },
   "source": [
    "**Run the code below to simulate the measurement results using QASM.**"
   ]
  },
  {
   "cell_type": "code",
   "execution_count": 29,
   "id": "kPBE8rB0mERZ",
   "metadata": {
    "id": "kPBE8rB0mERZ"
   },
   "outputs": [
    {
     "data": {
      "image/png": "[encoded data removed]",
      "text/plain": [
       "<Figure size 504x360 with 1 Axes>"
      ]
     },
     "execution_count": 29,
     "metadata": {},
     "output_type": "execute_result"
    }
   ],
   "source": [
    "# Simulate using QASM\n",
    "backend = Aer.get_backend('qasm_simulator')\n",
    "job = execute(qc, backend = backend, shots = 1024)  # Make sure you change \"qc\" to the name of your quantum circuit in this line!\n",
    "result = job.result()\n",
    "counts = result.get_counts()\n",
    "plot_histogram(counts)"
   ]
  },
  {
   "cell_type": "markdown",
   "id": "ZmS09Qwemyi7",
   "metadata": {
    "id": "ZmS09Qwemyi7",
    "tags": []
   },
   "source": [
    "## **Part 4: Conditionals**\n",
    "---"
   ]
  },
  {
   "cell_type": "markdown",
   "id": "-aS_JRKEmyjE",
   "metadata": {
    "id": "-aS_JRKEmyjE"
   },
   "source": [
    "#### **Exercise #1** \n",
    "\n",
    "Write code that prints \"time for dinner!\" if the variable `time` is greater than 19 and \"time for a snack!\" otherwise.\n",
    "\n",
    "**Then run the code several times for different values to see this code in action.**"
   ]
  },
  {
   "cell_type": "code",
   "execution_count": 30,
   "id": "g5QwaHaxmyjE",
   "metadata": {
    "id": "g5QwaHaxmyjE"
   },
   "outputs": [
    {
     "name": "stdout",
     "output_type": "stream",
     "text": [
      "time for snack\n"
     ]
    }
   ],
   "source": [
    "time = 17.5\n",
    "\n",
    "if time > 19:\n",
    "    print(\"time for dinner\")\n",
    "  # COMPLETE THIS LINE\n",
    "else:\n",
    "    print(\"time for snack\")\n",
    "  # COMPLETE THIS LINE"
   ]
  },
  {
   "cell_type": "markdown",
   "id": "RuveNDcbmtmD",
   "metadata": {
    "id": "RuveNDcbmtmD"
   },
   "source": [
    "#### **Exercise #2** \n",
    "\n",
    "Write code that prints \"apples\" and \"oranges\" using two different print statements if the variable `fruit` is equal to \"round\" and \"banana\" otherwise.\n",
    "\n",
    "**Then run the code several times for different values to see this code in action.**"
   ]
  },
  {
   "cell_type": "code",
   "execution_count": 31,
   "id": "DWeYy7WnmtmD",
   "metadata": {
    "id": "DWeYy7WnmtmD"
   },
   "outputs": [
    {
     "name": "stdout",
     "output_type": "stream",
     "text": [
      "apples\n",
      "oranges\n"
     ]
    }
   ],
   "source": [
    "fruit = \"round\"\n",
    "\n",
    "if fruit == \"round\":\n",
    "    print(\"apples\")\n",
    "    print(\"oranges\")\n",
    "else:\n",
    "    print(\"banana\")\n",
    "\n",
    "# COMPLETE THIS CODE"
   ]
  },
  {
   "cell_type": "markdown",
   "id": "01_snJA3neKw",
   "metadata": {
    "id": "01_snJA3neKw"
   },
   "source": [
    "#### **Exercise #3** \n",
    "\n",
    "Write code that checks if the element at index 3 is negative and multiples it by `-1` if it is. Then print the list.\n",
    "\n",
    "**Then run the code several times for different values to see this code in action.**"
   ]
  },
  {
   "cell_type": "code",
   "execution_count": 32,
   "id": "BYlL_F8sneKx",
   "metadata": {
    "id": "BYlL_F8sneKx"
   },
   "outputs": [
    {
     "name": "stdout",
     "output_type": "stream",
     "text": [
      "[-5, 8, 19, 0, 2, -5, 1]\n"
     ]
    }
   ],
   "source": [
    "my_list = [-5, 8, 19, 0, 2, -5, 1]\n",
    "if my_list[3]<0:\n",
    "    my_list[3]= -1*my_list[3]\n",
    "\n",
    "print(my_list)\n",
    "\n",
    "# COMPLETE THIS CODE"
   ]
  },
  {
   "cell_type": "markdown",
   "id": "twcYqakIoGZ_",
   "metadata": {
    "id": "twcYqakIoGZ_"
   },
   "source": [
    "#### **Exercise #4** \n",
    "\n",
    "Write code that checks if each element of a list is greater than 0 and prints any of these elements out. NOTE: This will require a loop and conditional, so the loop has already been provided for you.\n",
    "\n",
    "**Then run the code several times for different values to see this code in action.**"
   ]
  },
  {
   "cell_type": "code",
   "execution_count": 35,
   "id": "553B_AUOoGaA",
   "metadata": {
    "id": "553B_AUOoGaA"
   },
   "outputs": [
    {
     "name": "stdout",
     "output_type": "stream",
     "text": [
      "0\n",
      "52.3\n",
      "2\n",
      "0\n"
     ]
    }
   ],
   "source": [
    "my_list = [-1, 0, 52.3, 2, 0]\n",
    "\n",
    "for i in range(5):\n",
    "    if my_list[i]>=0:\n",
    "        print(my_list[i])\n",
    "  # COMPLETE THIS CODE"
   ]
  },
  {
   "cell_type": "markdown",
   "id": "Fk9e7W1apNYL",
   "metadata": {
    "id": "Fk9e7W1apNYL"
   },
   "source": [
    "#### **Exercise #5** \n",
    "\n",
    "Write code that checks if the variable, `result`, is equal to 1. If it is, print \"X\". Otherwise, print \"H please\".\n",
    "\n",
    "**Then run the code several times for different values to see this code in action.**"
   ]
  },
  {
   "cell_type": "code",
   "execution_count": 37,
   "id": "j44PXq_HpNYM",
   "metadata": {
    "id": "j44PXq_HpNYM"
   },
   "outputs": [
    {
     "name": "stdout",
     "output_type": "stream",
     "text": [
      "X\n"
     ]
    }
   ],
   "source": [
    "result = 1\n",
    "\n",
    "if result == 1:\n",
    "    print(\"X\")\n",
    "else:\n",
    "    print(\"H please\")\n",
    "\n",
    "# COMPLETE THIS CODE"
   ]
  },
  {
   "cell_type": "markdown",
   "id": "FWgf9MoqprZ_",
   "metadata": {
    "id": "FWgf9MoqprZ_"
   },
   "source": [
    "#### **Exercise #6** \n",
    "\n",
    "Write code that checks if any element in the list, `results`, is 1. If an element is, print \"X\". Otherwise, print \"H please\". NOTE: This will require putting your answer from above in a loop so be careful of indentation.\n",
    "\n",
    "**Then run the code several times for different values to see this code in action.**"
   ]
  },
  {
   "cell_type": "code",
   "execution_count": 40,
   "id": "I6uqU8wopraA",
   "metadata": {
    "id": "I6uqU8wopraA"
   },
   "outputs": [
    {
     "name": "stdout",
     "output_type": "stream",
     "text": [
      "X\n",
      "H please\n",
      "H please\n",
      "X\n",
      "H please\n"
     ]
    }
   ],
   "source": [
    "results = [1, 0, 0, 1, 0]\n",
    "result = 1\n",
    "for i in range (len(results)):\n",
    "    result = results[i]\n",
    "    if result == 1:\n",
    "        print(\"X\")\n",
    "    else:\n",
    "        print(\"H please\")\n",
    "# COMPLETE THIS CODE"
   ]
  },
  {
   "cell_type": "markdown",
   "id": "OcZvhIb8oLUx",
   "metadata": {
    "id": "OcZvhIb8oLUx"
   },
   "source": [
    "#### **Exercise #7** \n",
    "\n",
    "Write code that checks if any element in the list, `results`, is 1. If an element is, print \"X\" and *set that element equal to 0*. Otherwise, print \"H please\". NOTE: This will require putting your answer from above in a loop so be careful of indentation.\n",
    "\n",
    "**Then run the code several times for different values to see this code in action.**"
   ]
  },
  {
   "cell_type": "code",
   "execution_count": 42,
   "id": "4kIbPi9VoLU6",
   "metadata": {
    "id": "4kIbPi9VoLU6"
   },
   "outputs": [
    {
     "name": "stdout",
     "output_type": "stream",
     "text": [
      "X\n",
      "H please\n",
      "H please\n",
      "X\n",
      "H please\n",
      "[0, 0, 0, 0, 0]\n"
     ]
    }
   ],
   "source": [
    "results = [1, 0, 0, 1, 0]\n",
    "result = 1\n",
    "for i in range (len(results)):\n",
    "    result = results[i]\n",
    "    if result == 1:\n",
    "        print(\"X\")\n",
    "        results[i]=0\n",
    "        \n",
    "    else:\n",
    "        print(\"H please\")\n",
    "print(results)\n",
    "# COMPLETE THIS CODE\n",
    "# COMPLETE THIS CODE"
   ]
  },
  {
   "cell_type": "markdown",
   "id": "fpCbissiosn5",
   "metadata": {
    "id": "fpCbissiosn5",
    "tags": []
   },
   "source": [
    "## **Part 5: Conditionals with Qiskit**\n",
    "---"
   ]
  },
  {
   "cell_type": "markdown",
   "id": "bC6eLA-brA0i",
   "metadata": {
    "id": "bC6eLA-brA0i"
   },
   "source": [
    "#### **Exercise #1** \n",
    "\n",
    "Create and draw a 1-qubit/1-classical bit quantum circuit where you apply an H gate if the variable, `choice`, is \"superposition\" and an X gate otherwise. You do not need to add measurement here since we won't simulate this circuit.\n",
    "\n",
    "**Then run the code several times for different values to see this code in action.**"
   ]
  },
  {
   "cell_type": "code",
   "execution_count": 44,
   "id": "pFaMPKEzrA0i",
   "metadata": {
    "id": "pFaMPKEzrA0i"
   },
   "outputs": [
    {
     "data": {
      "image/png": "[encoded data removed]",
      "text/plain": [
       "<Figure size 133.526x144.48 with 1 Axes>"
      ]
     },
     "execution_count": 44,
     "metadata": {},
     "output_type": "execute_result"
    }
   ],
   "source": [
    "qc = QuantumCircuit(1,1)\n",
    "choice = \"superpositions\"\n",
    "if choice == \"superpositions\":\n",
    "    qc.h(0)\n",
    "else:\n",
    "    qc.x(0)\n",
    "    \n",
    "qc.draw()\n",
    "# COMPLETE THIS CODE"
   ]
  },
  {
   "cell_type": "markdown",
   "id": "sbjnmfETpDtr",
   "metadata": {
    "id": "sbjnmfETpDtr"
   },
   "source": [
    "#### **Exercise #2** \n",
    "\n",
    "Create and draw a 1-qubit/1-classical bit quantum circuit where you apply an H and then X gate if the variable, `choice`, is \"superposition\" and an X gate otherwise. You do not need to add measurement here since we won't simulate this circuit.\n",
    "\n",
    "**Then run the code several times for different values to see this code in action.**"
   ]
  },
  {
   "cell_type": "code",
   "execution_count": 45,
   "id": "TwInyHMWpDtt",
   "metadata": {
    "id": "TwInyHMWpDtt"
   },
   "outputs": [
    {
     "data": {
      "image/png": "[encoded data removed]",
      "text/plain": [
       "<Figure size 193.726x144.48 with 1 Axes>"
      ]
     },
     "execution_count": 45,
     "metadata": {},
     "output_type": "execute_result"
    }
   ],
   "source": [
    "qc = QuantumCircuit(1,1)\n",
    "choice = \"superpositions\"\n",
    "if choice == \"superpositions\":\n",
    "    qc.h(0)\n",
    "    qc.x(0)\n",
    "else:\n",
    "    qc.x(0)\n",
    "    \n",
    "qc.draw()\n",
    "# COMPLETE THIS CODE"
   ]
  },
  {
   "cell_type": "markdown",
   "id": "UvkylRHSpqln",
   "metadata": {
    "id": "UvkylRHSpqln"
   },
   "source": [
    "#### **Exercise #3** \n",
    "\n",
    "Create and draw a 2-qubit/2-classical bit quantum circuit where you apply gates as described below. You do not need to add measurement here since we won't simulate this circuit.\n",
    "\n",
    "**Gates**:\n",
    "\n",
    "if the variable `bit` equals 0, then apply an X gate to both qubits 0 and 1\n",
    "\n",
    "otherwise, do nothing\n",
    "\n",
    "\n",
    "<br>\n",
    "\n",
    "**Then run the code several times for different values to see this code in action.**"
   ]
  },
  {
   "cell_type": "code",
   "execution_count": 47,
   "id": "DixaPPzYpqlo",
   "metadata": {
    "id": "DixaPPzYpqlo"
   },
   "outputs": [
    {
     "data": {
      "image/png": "[encoded data removed]",
      "text/plain": [
       "<Figure size 146.652x204.68 with 1 Axes>"
      ]
     },
     "execution_count": 47,
     "metadata": {},
     "output_type": "execute_result"
    }
   ],
   "source": [
    "bit = 0\n",
    "qc = QuantumCircuit(2,2)\n",
    "if bit==0:\n",
    "    qc.x(0)\n",
    "    qc.x(1)\n",
    "    \n",
    "qc.draw()\n",
    "# COMPLETE THIS CODE"
   ]
  },
  {
   "cell_type": "markdown",
   "id": "a8qyKPQjpPmM",
   "metadata": {
    "id": "a8qyKPQjpPmM"
   },
   "source": [
    "#### **Exercise #4** \n",
    "\n",
    "Create and draw a 2-qubit/2-classical bit quantum circuit where you apply gates as described below. You do not need to add measurement here since we won't simulate this circuit.\n",
    "\n",
    "**Gates**:\n",
    "\n",
    "if the variable `choice` is \"control\", then apply a CX gate with qubit 0 as the control and qubit 1 as the target\n",
    "\n",
    "otherwise, apply an X gate to both qubits 0 and 1\n",
    "\n",
    "\n",
    "<br>\n",
    "\n",
    "**Then run the code several times for different values to see this code in action.**"
   ]
  },
  {
   "cell_type": "code",
   "execution_count": 48,
   "id": "rUrCDAxSpPmN",
   "metadata": {
    "id": "rUrCDAxSpPmN"
   },
   "outputs": [
    {
     "data": {
      "image/png": "[encoded data removed]",
      "text/plain": [
       "<Figure size 146.652x204.68 with 1 Axes>"
      ]
     },
     "execution_count": 48,
     "metadata": {},
     "output_type": "execute_result"
    }
   ],
   "source": [
    "choice = \"control\"\n",
    "qc = QuantumCircuit(2,2)\n",
    "if choice == \"control\":\n",
    "    qc.cx(0,1)\n",
    "\n",
    "else:\n",
    "    qc.x(0)\n",
    "    qc.x(1)\n",
    "    \n",
    "qc.draw()\n",
    "# COMPLETE THIS CODE"
   ]
  },
  {
   "cell_type": "markdown",
   "id": "CPY_RDBtqZFZ",
   "metadata": {
    "id": "CPY_RDBtqZFZ"
   },
   "source": [
    "#### **Exercise #5** \n",
    "\n",
    "Create and draw a 3-qubit/3-classical bit quantum circuit where you apply gates as described below. You do not need to simulate this circuit.\n",
    "\n",
    "**Gates**:\n",
    "\n",
    "apply an H gate to qubit 0\n",
    "\n",
    "if the variable `result` equals 1, then apply a CX gate with qubit 0 as the control and qubit 1 as the target AND a CX gate with qubit 1 as the control and qubit 2 as the target\n",
    "\n",
    "otherwise, measure all three qubits\n",
    "\n",
    "\n",
    "<br>\n",
    "\n",
    "**Then run the code several times for different values to see this code in action.**"
   ]
  },
  {
   "cell_type": "code",
   "execution_count": 49,
   "id": "8ADeB1OkqZFa",
   "metadata": {
    "id": "8ADeB1OkqZFa"
   },
   "outputs": [
    {
     "data": {
      "image/png": "[encoded data removed]",
      "text/plain": [
       "<Figure size 327.397x264.88 with 1 Axes>"
      ]
     },
     "execution_count": 49,
     "metadata": {},
     "output_type": "execute_result"
    }
   ],
   "source": [
    "result = 1\n",
    "\n",
    "qc = QuantumCircuit(3, 3)\n",
    "qc.h(0)\n",
    "if result == 1:\n",
    "    qc.cx(0,1)\n",
    "\n",
    "else:\n",
    "    qc.cx(1,2)\n",
    "    \n",
    "qc.measure([0,1,2],[0,1,2])\n",
    "    \n",
    "qc.draw()\n",
    "# COMPLETE THIS CODE"
   ]
  },
  {
   "cell_type": "markdown",
   "id": "hQJELyD6aeJ2",
   "metadata": {
    "id": "hQJELyD6aeJ2"
   },
   "source": [
    "---\n",
    "# © 2022 The Coding School, All rights reserved"
   ]
  }
 ],
 "metadata": {
  "colab": {
   "collapsed_sections": [],
   "provenance": []
  },
  "kernelspec": {
   "display_name": "Python 3 (ipykernel)",
   "language": "python",
   "name": "python3"
  },
  "language_info": {
   "codemirror_mode": {
    "name": "ipython",
    "version": 3
   },
   "file_extension": ".py",
   "mimetype": "text/x-python",
   "name": "python",
   "nbconvert_exporter": "python",
   "pygments_lexer": "ipython3",
   "version": "3.8.13"
  },
  "widgets": {
   "application/vnd.jupyter.widget-state+json": {
    "state": {},
    "version_major": 2,
    "version_minor": 0
   }
  }
 },
 "nbformat": 4,
 "nbformat_minor": 5
}
