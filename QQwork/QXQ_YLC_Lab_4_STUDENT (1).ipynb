{
 "cells": [
  {
   "cell_type": "markdown",
   "id": "d2497f68-e565-4dec-8d5e-ec337e37128e",
   "metadata": {
    "id": "d2497f68-e565-4dec-8d5e-ec337e37128e"
   },
   "source": [
    "# Lab: Week #4 | Introduction to Qiskit\n",
    "---\n",
    "\n",
    "In this week's lab, we will create and simulate quantum circuits using Qiskit.\n",
    "\n",
    "---"
   ]
  },
  {
   "cell_type": "markdown",
   "id": "k0Lsovb5VOKP",
   "metadata": {
    "id": "k0Lsovb5VOKP",
    "jp-MarkdownHeadingCollapsed": true,
    "tags": []
   },
   "source": [
    "## **Part 0: Importing from Qiskit**\n",
    "---\n",
    "\n",
    "Run the cell directly below before doing anything else. This will import all of the functions that we will use today."
   ]
  },
  {
   "cell_type": "code",
   "execution_count": null,
   "id": "863aa459-349d-43be-b305-f1ca757b4858",
   "metadata": {
    "id": "863aa459-349d-43be-b305-f1ca757b4858"
   },
   "outputs": [],
   "source": [
    "# Importing standard Qiskit libraries\n",
    "from qiskit import QuantumCircuit  #Importing the QuantumCircuit function from Qiskit. We will use this to create our quantum circuits!\n",
    "\n",
    "from qiskit.visualization import visualize_transition # We will use this function to run our circuit and visualize its final state\n",
    "\n",
    "import warnings  # We are using this library to suppress some warning messages\n",
    "warnings.filterwarnings(\"ignore\")\n",
    "\n",
    "print(\"Libraries imported successfully!\")"
   ]
  },
  {
   "cell_type": "markdown",
   "id": "Wz20xnRmVgZf",
   "metadata": {
    "id": "Wz20xnRmVgZf"
   },
   "source": [
    "## **Part 1: Creating your first quantum circuit**\n",
    "---"
   ]
  },
  {
   "cell_type": "markdown",
   "id": "mfMteYS3to5n",
   "metadata": {
    "id": "mfMteYS3to5n"
   },
   "source": [
    "#### **Exercise #1:** Define a 1-qubit circuit named `qc` using the `QuantumCircuit()` function."
   ]
  },
  {
   "cell_type": "code",
   "execution_count": 5,
   "id": "8960aede-1965-4905-92ba-4ee36f22855f",
   "metadata": {
    "id": "8960aede-1965-4905-92ba-4ee36f22855f"
   },
   "outputs": [],
   "source": [
    "from qiskit import QuantumCircuit \n",
    "qc = QuantumCircuit(1,1)"
   ]
  },
  {
   "cell_type": "markdown",
   "id": "4ojad3Z6Vwgp",
   "metadata": {
    "id": "4ojad3Z6Vwgp"
   },
   "source": [
    "#### **Exercise #2:** Now apply an X gate to qubit 0."
   ]
  },
  {
   "cell_type": "code",
   "execution_count": 7,
   "id": "7cde8cc7-c6a9-4ecd-adc6-7247efefd7c2",
   "metadata": {
    "id": "7cde8cc7-c6a9-4ecd-adc6-7247efefd7c2"
   },
   "outputs": [
    {
     "data": {
      "text/plain": [
       "<qiskit.circuit.instructionset.InstructionSet at 0x7f868a81b2b0>"
      ]
     },
     "execution_count": 7,
     "metadata": {},
     "output_type": "execute_result"
    }
   ],
   "source": [
    "qc.x(0)"
   ]
  },
  {
   "cell_type": "markdown",
   "id": "5C4K_yT8ZA6i",
   "metadata": {
    "id": "5C4K_yT8ZA6i"
   },
   "source": [
    "#### **Exercise #3:** Draw your circuit using the `qc.draw()` function."
   ]
  },
  {
   "cell_type": "code",
   "execution_count": 8,
   "id": "0265fd66-3c78-48c0-a8d2-c0349ef09407",
   "metadata": {
    "id": "0265fd66-3c78-48c0-a8d2-c0349ef09407"
   },
   "outputs": [
    {
     "data": {
      "image/png": "[encoded data removed]",
      "text/plain": [
       "<Figure size 133.526x144.48 with 1 Axes>"
      ]
     },
     "execution_count": 8,
     "metadata": {},
     "output_type": "execute_result"
    }
   ],
   "source": [
    "qc.draw()"
   ]
  },
  {
   "cell_type": "markdown",
   "id": "rClRq4bZZSeI",
   "metadata": {
    "id": "rClRq4bZZSeI"
   },
   "source": [
    "#### **Exercise #4:** Run your circuit using the function `visualize_transition(qc, trace = True)`."
   ]
  },
  {
   "cell_type": "code",
   "execution_count": null,
   "id": "63c31d83-6c40-481c-a319-dfba2c7b4849",
   "metadata": {
    "id": "63c31d83-6c40-481c-a319-dfba2c7b4849"
   },
   "outputs": [],
   "source": []
  },
  {
   "cell_type": "markdown",
   "id": "z6fJDyl3ZS_k",
   "metadata": {
    "id": "z6fJDyl3ZS_k"
   },
   "source": [
    "#### **Exercise #5:** Run your circuit using the `visualize_transition(...)` function, but now with the argument `trace = False`. \n",
    "\n",
    "#### What changed?"
   ]
  },
  {
   "cell_type": "code",
   "execution_count": null,
   "id": "3Wo3flq0Zi_M",
   "metadata": {
    "id": "3Wo3flq0Zi_M"
   },
   "outputs": [],
   "source": []
  },
  {
   "cell_type": "markdown",
   "id": "DMBshLtIZjhX",
   "metadata": {
    "id": "DMBshLtIZjhX"
   },
   "source": [
    "#### **Exercise #6:** Define a 1-qubit quantum circuit and add an H gate to it. Run the circuit using the `visualize_transition` function."
   ]
  },
  {
   "cell_type": "code",
   "execution_count": null,
   "id": "6abe3595-de47-4b43-a4b5-887467be8974",
   "metadata": {
    "id": "6abe3595-de47-4b43-a4b5-887467be8974",
    "tags": []
   },
   "outputs": [],
   "source": []
  },
  {
   "cell_type": "markdown",
   "id": "TdWc_USpdDbZ",
   "metadata": {
    "id": "TdWc_USpdDbZ"
   },
   "source": [
    "## **Part 2: Creating more advanced quantum circuits**\n",
    "---"
   ]
  },
  {
   "cell_type": "markdown",
   "id": "u6CLps1mdMpo",
   "metadata": {
    "id": "u6CLps1mdMpo"
   },
   "source": [
    "#### **Exercise #1:** Create a 1-qubit quantum circuit and add two X gates to it. Run the circuit using the `visualize_transition` function."
   ]
  },
  {
   "cell_type": "code",
   "execution_count": null,
   "id": "yOobUVxudYa-",
   "metadata": {
    "id": "yOobUVxudYa-"
   },
   "outputs": [],
   "source": []
  },
  {
   "cell_type": "markdown",
   "id": "drSlYoGydZDh",
   "metadata": {
    "id": "drSlYoGydZDh"
   },
   "source": [
    "#### **Exercise #2:** Create and run a 1-qubit circuit that applies the following gates (in this order): X then H."
   ]
  },
  {
   "cell_type": "code",
   "execution_count": null,
   "id": "8qBucNrhdr_4",
   "metadata": {
    "id": "8qBucNrhdr_4"
   },
   "outputs": [],
   "source": []
  },
  {
   "cell_type": "markdown",
   "id": "Y3KybfGahJD0",
   "metadata": {
    "id": "Y3KybfGahJD0"
   },
   "source": [
    "#### **Exercise #3:** Create and run a 1-qubit circuit that applies the following gates (in this order): H then X. \n",
    "\n",
    "#### Is this the same as the circuit in Exercise #2? What part of today's discussion does this result relate to?"
   ]
  },
  {
   "cell_type": "code",
   "execution_count": null,
   "id": "oeN7erhqhRDK",
   "metadata": {
    "id": "oeN7erhqhRDK"
   },
   "outputs": [],
   "source": []
  },
  {
   "cell_type": "markdown",
   "id": "VFUBZhDsAo41",
   "metadata": {
    "id": "VFUBZhDsAo41"
   },
   "source": [
    "#### **Exercise #4:** Create and run a 1-qubit circuit that applies 3 Xs and then 3 Hs."
   ]
  },
  {
   "cell_type": "code",
   "execution_count": null,
   "id": "qCNrgjzTAo4_",
   "metadata": {
    "id": "qCNrgjzTAo4_"
   },
   "outputs": [],
   "source": []
  },
  {
   "cell_type": "markdown",
   "id": "Pdem89HiAwI3",
   "metadata": {
    "id": "Pdem89HiAwI3"
   },
   "source": [
    "#### **Exercise #5:** Create and run a 1-qubit circuit that applies X then H three times: X, H, X, H, X, H"
   ]
  },
  {
   "cell_type": "code",
   "execution_count": null,
   "id": "ym4560Z7AwI5",
   "metadata": {
    "id": "ym4560Z7AwI5"
   },
   "outputs": [],
   "source": []
  },
  {
   "cell_type": "markdown",
   "id": "LjEke4fIA6BV",
   "metadata": {
    "id": "LjEke4fIA6BV"
   },
   "source": [
    "#### **Exercise #6:** It's important to remember that Qiskit always starts our qubits in the $ | 0 \\rangle $ state. What if we want our qubit to start in the $ | 1 \\rangle $ state instead?\n",
    "\n",
    "Well, $ X | 0 \\rangle = | 1 \\rangle $. So, we just apply an X to any qubit that we want to start in the $ | 1 \\rangle $ state before beginning.\n",
    "\n",
    "In the space below, create and a run a 1-qubit circuit that prepares the qubit in the $ | 1 \\rangle $ state and then applies an H gate to it. "
   ]
  },
  {
   "cell_type": "code",
   "execution_count": null,
   "id": "NoFHyKl1A6BW",
   "metadata": {
    "id": "NoFHyKl1A6BW"
   },
   "outputs": [],
   "source": []
  },
  {
   "cell_type": "markdown",
   "id": "z6zd7pAbBowA",
   "metadata": {
    "id": "z6zd7pAbBowA"
   },
   "source": [
    "#### **Exercise #7:** Along similar lines, we can prepare our qubit in the $ | + \\rangle $ state by first applying an H gate.\n",
    "\n",
    "In the space below, create and a run a 1-qubit circuit that prepares the qubit in the $ | + \\rangle $ state and then applies an X gate to it. "
   ]
  },
  {
   "cell_type": "code",
   "execution_count": null,
   "id": "xU3ce0pXBowJ",
   "metadata": {
    "id": "xU3ce0pXBowJ"
   },
   "outputs": [],
   "source": []
  },
  {
   "cell_type": "markdown",
   "id": "9wCfNQeUB6a8",
   "metadata": {
    "id": "9wCfNQeUB6a8"
   },
   "source": [
    "#### **Exercise #8:** Lastly, create and a run a 1-qubit circuit that prepares the qubit in the $ | - \\rangle $ state and then applies an X gate to it. "
   ]
  },
  {
   "cell_type": "code",
   "execution_count": null,
   "id": "CmEKE-ZYB6a9",
   "metadata": {
    "id": "CmEKE-ZYB6a9"
   },
   "outputs": [],
   "source": []
  },
  {
   "cell_type": "markdown",
   "id": "W8PQFmPHeWH9",
   "metadata": {
    "id": "W8PQFmPHeWH9"
   },
   "source": [
    "---\n",
    "# © 2022 The Coding School, All rights reserved"
   ]
  }
 ],
 "metadata": {
  "colab": {
   "collapsed_sections": [
    "k0Lsovb5VOKP",
    "DMBshLtIZjhX",
    "u6CLps1mdMpo",
    "drSlYoGydZDh",
    "Y3KybfGahJD0",
    "VFUBZhDsAo41",
    "Pdem89HiAwI3",
    "LjEke4fIA6BV",
    "z6zd7pAbBowA",
    "9wCfNQeUB6a8"
   ],
   "provenance": []
  },
  "kernelspec": {
   "display_name": "Python 3 (ipykernel)",
   "language": "python",
   "name": "python3"
  },
  "language_info": {
   "codemirror_mode": {
    "name": "ipython",
    "version": 3
   },
   "file_extension": ".py",
   "mimetype": "text/x-python",
   "name": "python",
   "nbconvert_exporter": "python",
   "pygments_lexer": "ipython3",
   "version": "3.8.13"
  },
  "widgets": {
   "application/vnd.jupyter.widget-state+json": {
    "state": {},
    "version_major": 2,
    "version_minor": 0
   }
  }
 },
 "nbformat": 4,
 "nbformat_minor": 5
}
