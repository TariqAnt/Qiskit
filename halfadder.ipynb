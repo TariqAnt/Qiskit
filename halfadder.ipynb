{
 "cells": [
  {
   "cell_type": "code",
   "execution_count": 8,
   "metadata": {},
   "outputs": [],
   "source": [
    "import qiskit"
   ]
  },
  {
   "cell_type": "code",
   "execution_count": 9,
   "metadata": {},
   "outputs": [],
   "source": [
    "from qiskit import QuantumCircuit\n",
    "qc = QuantumCircuit(4,2)"
   ]
  },
  {
   "attachments": {},
   "cell_type": "markdown",
   "metadata": {},
   "source": [
    "Value of Input A & B"
   ]
  },
  {
   "cell_type": "code",
   "execution_count": null,
   "metadata": {},
   "outputs": [],
   "source": []
  },
  {
   "attachments": {},
   "cell_type": "markdown",
   "metadata": {},
   "source": [
    "Half Adder Code"
   ]
  },
  {
   "cell_type": "code",
   "execution_count": 10,
   "metadata": {},
   "outputs": [
    {
     "data": {
      "text/html": [
       "<pre style=\"word-wrap: normal;white-space: pre;background: #fff0;line-height: 1.1;font-family: &quot;Courier New&quot;,Courier,monospace\">                          \n",
       "q_0: ──■─────────■────────\n",
       "       │         │        \n",
       "q_1: ──┼────■────■────────\n",
       "     ┌─┴─┐┌─┴─┐  │  ┌─┐   \n",
       "q_2: ┤ X ├┤ X ├──┼──┤M├───\n",
       "     └───┘└───┘┌─┴─┐└╥┘┌─┐\n",
       "q_3: ──────────┤ X ├─╫─┤M├\n",
       "               └───┘ ║ └╥┘\n",
       "c: 2/════════════════╩══╩═\n",
       "                     0  1 </pre>"
      ],
      "text/plain": [
       "                          \n",
       "q_0: ──■─────────■────────\n",
       "       │         │        \n",
       "q_1: ──┼────■────■────────\n",
       "     ┌─┴─┐┌─┴─┐  │  ┌─┐   \n",
       "q_2: ┤ X ├┤ X ├──┼──┤M├───\n",
       "     └───┘└───┘┌─┴─┐└╥┘┌─┐\n",
       "q_3: ──────────┤ X ├─╫─┤M├\n",
       "               └───┘ ║ └╥┘\n",
       "c: 2/════════════════╩══╩═\n",
       "                     0  1 "
      ]
     },
     "execution_count": 10,
     "metadata": {},
     "output_type": "execute_result"
    }
   ],
   "source": [
    "qc.cx(0,2)\n",
    "qc.cx(1,2)\n",
    "qc.ccx(0,1,3)\n",
    "qc.measure(2,0)\n",
    "qc.measure(3,1)\n",
    "qc.draw()"
   ]
  },
  {
   "cell_type": "code",
   "execution_count": 11,
   "metadata": {},
   "outputs": [],
   "source": [
    "from qiskit.providers.aer import AerSimulator\n",
    "sim=AerSimulator()"
   ]
  },
  {
   "cell_type": "code",
   "execution_count": 12,
   "metadata": {},
   "outputs": [
    {
     "data": {
      "text/plain": [
       "{'00': 1024}"
      ]
     },
     "execution_count": 12,
     "metadata": {},
     "output_type": "execute_result"
    }
   ],
   "source": [
    "job = sim.run(qc)\n",
    "result = job.result()\n",
    "result.get_counts()"
   ]
  }
 ],
 "metadata": {
  "kernelspec": {
   "display_name": "Python 3",
   "language": "python",
   "name": "python3"
  },
  "language_info": {
   "codemirror_mode": {
    "name": "ipython",
    "version": 3
   },
   "file_extension": ".py",
   "mimetype": "text/x-python",
   "name": "python",
   "nbconvert_exporter": "python",
   "pygments_lexer": "ipython3",
   "version": "3.11.1"
  },
  "orig_nbformat": 4,
  "vscode": {
   "interpreter": {
    "hash": "6165a7d647b2945e8005d7e1f1c9a07a7362c4deeabf70d042e6b1d6fa4acc57"
   }
  }
 },
 "nbformat": 4,
 "nbformat_minor": 2
}
