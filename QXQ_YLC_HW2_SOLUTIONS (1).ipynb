{
 "cells": [
  {
   "cell_type": "markdown",
   "metadata": {
    "id": "ExUXGU-CzEXO"
   },
   "source": [
    "# Homework: Week #2 \n",
    "---\n",
    "This week's homework is a chance to continue honing your Python skills.\n",
    "\n",
    "You can find the syntax cheat sheet [here](https://docs.google.com/document/d/1NGD5FUzchMfVLKOAkhsUPQnaYh0dEoRVtr_A1j75jtY/edit?usp=sharing).\n",
    "\n",
    "---"
   ]
  },
  {
   "cell_type": "markdown",
   "metadata": {
    "id": "Yy8rkqxc6xB6"
   },
   "source": [
    "### **Required Problems**"
   ]
  },
  {
   "cell_type": "markdown",
   "metadata": {
    "id": "XEII7aALXP4q"
   },
   "source": [
    "#### **Exercise #1:** Create a variable named `welcome_message` and store the string \"Welcome to class!\" in it. Then print this variable."
   ]
  },
  {
   "cell_type": "code",
   "execution_count": null,
   "metadata": {
    "id": "s40j8v7-YENe"
   },
   "outputs": [],
   "source": []
  },
  {
   "cell_type": "markdown",
   "metadata": {
    "id": "Gg4_9IghYR_z"
   },
   "source": [
    "##### **Solution:**"
   ]
  },
  {
   "cell_type": "code",
   "execution_count": null,
   "metadata": {
    "id": "vvo_ZC1aYUOy"
   },
   "outputs": [],
   "source": [
    "welcome_message = \"Welcome to class!\"\n",
    "print(welcome_message)"
   ]
  },
  {
   "cell_type": "markdown",
   "metadata": {
    "id": "2BJz9-uvVpGi"
   },
   "source": [
    "#### **Exercise #2:** You want to calculate how many miles you walked today. You walked 1 mile to get to your friend's house, 1.5 miles to get to school, and then 2 miles to get back home. How many miles did you walk in total? Use the starter code below and fill in to calculat the total distance you walked."
   ]
  },
  {
   "cell_type": "code",
   "execution_count": null,
   "metadata": {
    "id": "zKBqE7txVpGj"
   },
   "outputs": [],
   "source": [
    "distance_friend =\n",
    "\n",
    "distance_school = \n",
    "\n",
    "distance_home =\n",
    "\n",
    "total_distance =\n",
    "\n",
    "print(total_distance)"
   ]
  },
  {
   "cell_type": "markdown",
   "metadata": {
    "id": "qUUIJ4ZHVpGj"
   },
   "source": [
    "##### **Solution:**"
   ]
  },
  {
   "cell_type": "code",
   "execution_count": null,
   "metadata": {
    "id": "Q-B5_yZlVpGj"
   },
   "outputs": [],
   "source": [
    "distance_friend = 1\n",
    "\n",
    "distance_school = 1.5\n",
    "\n",
    "distance_home = 2\n",
    "\n",
    "total_distance = distance_home + distance_school + distance_friend\n",
    "\n",
    "print(total_distance)"
   ]
  },
  {
   "cell_type": "markdown",
   "metadata": {
    "id": "DYUKOJHZVpUR"
   },
   "source": [
    "#### **Exercise #3:** Your favorite musician just released a new album! It is 38 minutes long and has an average song length of 3.7 minutes. Complete the code below to determine and print the number of songs in this album."
   ]
  },
  {
   "cell_type": "code",
   "execution_count": null,
   "metadata": {
    "id": "xGoQRePRVpUS"
   },
   "outputs": [],
   "source": [
    "album_length =\n",
    "avg_song_length = \n",
    "\n",
    "num_songs =\n",
    "\n",
    "print()"
   ]
  },
  {
   "cell_type": "markdown",
   "metadata": {
    "id": "uhiDdJszVpUS"
   },
   "source": [
    "##### **Solution:**"
   ]
  },
  {
   "cell_type": "code",
   "execution_count": null,
   "metadata": {
    "id": "rGV68MopVpUS"
   },
   "outputs": [],
   "source": [
    "album_length = 38\n",
    "avg_song_length = 3.7\n",
    "\n",
    "num_songs = album_length / avg_song_length\n",
    "\n",
    "print[num_songs]"
   ]
  },
  {
   "cell_type": "markdown",
   "metadata": {
    "id": "Q4ODMtwSWCk5"
   },
   "source": [
    "#### **Exercise #4:** Find and correct the errors in the code below."
   ]
  },
  {
   "cell_type": "code",
   "execution_count": null,
   "metadata": {
    "id": "eSNOO8jRWCk5"
   },
   "outputs": [],
   "source": [
    "Print(\"Hello World\"!)"
   ]
  },
  {
   "cell_type": "markdown",
   "metadata": {
    "id": "QAwBt-zYWCk5"
   },
   "source": [
    "##### **Solution:**"
   ]
  },
  {
   "cell_type": "code",
   "execution_count": null,
   "metadata": {
    "id": "B5QzWYA8WCk5"
   },
   "outputs": [],
   "source": [
    "print(\"Hello World!\")"
   ]
  },
  {
   "cell_type": "markdown",
   "metadata": {
    "id": "MgDIZz52WCk6"
   },
   "source": [
    "#### **Exercise #5:** Find and fix the errors in the code below."
   ]
  },
  {
   "cell_type": "code",
   "execution_count": null,
   "metadata": {
    "id": "yNSHYmDWWCk6"
   },
   "outputs": [],
   "source": [
    "books = \"4\"\n",
    "pages_total == 1001\n",
    "\n",
    "average_book_length = pages_total * books\n",
    "print(average_book_length)"
   ]
  },
  {
   "cell_type": "markdown",
   "metadata": {
    "id": "7gyCQIebWCk6"
   },
   "source": [
    "##### **Solution:**"
   ]
  },
  {
   "cell_type": "code",
   "execution_count": null,
   "metadata": {
    "id": "mwx4Wa2UWCk6"
   },
   "outputs": [],
   "source": [
    "books = 4\n",
    "pages_total = 1001\n",
    "\n",
    "average_book_length = pages_total / books\n",
    "\n",
    "print(average_book_length)"
   ]
  },
  {
   "cell_type": "markdown",
   "metadata": {
    "id": "p1HTQGRwi7nt"
   },
   "source": [
    "#### **Exercise #6:** Create a list containing the elements \"superposition\", \"interference\", and \"entanglement\". Using the list, print out the message \"These are important properties of quantum mechanics: superposition, interference, entanglement\". "
   ]
  },
  {
   "cell_type": "code",
   "execution_count": null,
   "metadata": {
    "id": "jBdCo2T4i7nu"
   },
   "outputs": [],
   "source": []
  },
  {
   "cell_type": "markdown",
   "metadata": {
    "id": "4HAOaAoEi7nv"
   },
   "source": [
    "##### **Solution:**"
   ]
  },
  {
   "cell_type": "code",
   "execution_count": null,
   "metadata": {
    "colab": {
     "base_uri": "https://localhost:8080/"
    },
    "id": "E0w8vSfgi7nv",
    "outputId": "a6d1f7f5-b249-4acd-8e9f-3b85d4c22ab9"
   },
   "outputs": [
    {
     "name": "stdout",
     "output_type": "stream",
     "text": [
      "These are important properties of quantum mechanics: superposition, interference, entanglement\n"
     ]
    }
   ],
   "source": [
    "properties = [\"superposition\", \"interference\", \"entanglement\"]\n",
    "\n",
    "print(\"These are important properties of quantum mechanics: \" + properties[0] + \", \" + properties[1] + \", \" + properties[2])"
   ]
  },
  {
   "cell_type": "markdown",
   "metadata": {
    "id": "A0ljpx5-j1Bo"
   },
   "source": [
    "#### **Exercise #7:** Now, add the element \"measurement\" to the list and print the message \"These are important properties of quantum mechanics: measurement, superposition, entanglement, interference\" (in this exact order)."
   ]
  },
  {
   "cell_type": "code",
   "execution_count": null,
   "metadata": {
    "id": "fUS7TnoLj1Bp"
   },
   "outputs": [],
   "source": []
  },
  {
   "cell_type": "markdown",
   "metadata": {
    "id": "QqUT5clDj1Bp"
   },
   "source": [
    "##### **Solution:**"
   ]
  },
  {
   "cell_type": "code",
   "execution_count": null,
   "metadata": {
    "colab": {
     "base_uri": "https://localhost:8080/"
    },
    "id": "-bLG7b8Cj1Bp",
    "outputId": "540b15ab-fae1-4d6c-c781-445aeb2c6132"
   },
   "outputs": [
    {
     "name": "stdout",
     "output_type": "stream",
     "text": [
      "These are important properties of quantum mechanics: measurement, superposition, entanglement, interference\n"
     ]
    }
   ],
   "source": [
    "properties = [\"superposition\", \"interference\", \"entanglement\"]\n",
    "\n",
    "properties.append(\"measurement\")\n",
    "\n",
    "print(\"These are important properties of quantum mechanics: \" + properties[3] + \", \" + properties[0] + \", \" + properties[2] + \", \" + properties[1])"
   ]
  },
  {
   "cell_type": "markdown",
   "metadata": {
    "id": "i8BPMyQ8gRYt"
   },
   "source": [
    "#### **Exercise #8:** You're going to the grocery store and want to use python to store your grocery list. You realize that you already have cereal but need bread. *Replace* `cereal` with `bread` in the list below. Print the updated list."
   ]
  },
  {
   "cell_type": "code",
   "execution_count": null,
   "metadata": {
    "id": "WtHQZXmJAfGe"
   },
   "outputs": [],
   "source": [
    "grocery_list = [\"apples\", \"bananas\", \"cereal\", \"milk\", \"flour\"]"
   ]
  },
  {
   "cell_type": "markdown",
   "metadata": {
    "id": "0_WL4w6mgRYt"
   },
   "source": [
    "##### **Solution:**"
   ]
  },
  {
   "cell_type": "code",
   "execution_count": null,
   "metadata": {
    "colab": {
     "base_uri": "https://localhost:8080/"
    },
    "id": "TBFJ7fedgRYt",
    "outputId": "5cd3e966-2aa6-4c42-aee4-412e7cb9db43"
   },
   "outputs": [
    {
     "name": "stdout",
     "output_type": "stream",
     "text": [
      "['apples', 'bananas', 'bread', 'milk', 'flour']\n"
     ]
    }
   ],
   "source": [
    "grocery_list = [\"apples\", \"bananas\", \"cereal\", \"milk\", \"flour\"]\n",
    "\n",
    "grocery_list[2] = \"bread\"\n",
    "\n",
    "print(grocery_list)"
   ]
  },
  {
   "cell_type": "markdown",
   "metadata": {
    "id": "n-OmBy6v8o-c"
   },
   "source": [
    "#### **Exercise #9:** Complete the function below to return the sum of the first two elements of the list provided."
   ]
  },
  {
   "cell_type": "code",
   "execution_count": null,
   "metadata": {
    "id": "vAbVa-0S8-Oa"
   },
   "outputs": [],
   "source": [
    "def sum_2(my_list):\n",
    "\n",
    "  return # complete this line"
   ]
  },
  {
   "cell_type": "markdown",
   "metadata": {
    "id": "8E1BERSa8-mG"
   },
   "source": [
    "##### **Solution:**"
   ]
  },
  {
   "cell_type": "code",
   "execution_count": null,
   "metadata": {
    "id": "sCRhJUpA9AVw"
   },
   "outputs": [],
   "source": [
    "def sum_2(my_list):\n",
    "\n",
    "  return my_list[0] + my_list[1]"
   ]
  },
  {
   "cell_type": "markdown",
   "metadata": {
    "id": "7ibIwi7hde3d"
   },
   "source": [
    "#### **Exercise #10:** Complete the function below so that it multiplies the two arguments and prints \"Those multiply together to be [result of multiplication]\". "
   ]
  },
  {
   "cell_type": "code",
   "execution_count": null,
   "metadata": {
    "id": "7bWi38HUde3e"
   },
   "outputs": [],
   "source": [
    "def mult(num1, num2):\n",
    "\n",
    "  m = # Write this line of code\n",
    "   \n",
    "  # print out the result"
   ]
  },
  {
   "cell_type": "markdown",
   "metadata": {
    "id": "1aLZp_Iade3e"
   },
   "source": [
    "##### **Solution:**"
   ]
  },
  {
   "cell_type": "code",
   "execution_count": null,
   "metadata": {
    "id": "r0x_6cwfde3f"
   },
   "outputs": [],
   "source": [
    "def mult(num1, num2):\n",
    "\n",
    "  m = num1 * num2\n",
    "  print(\"Those multiply together to be \" + str(m))"
   ]
  },
  {
   "cell_type": "markdown",
   "metadata": {
    "id": "HAiEbDgzeRNB"
   },
   "source": [
    "#### **Exercise #11:** Complete the function below so that it returns the result of checking if the argument is equal to 10."
   ]
  },
  {
   "cell_type": "code",
   "execution_count": null,
   "metadata": {
    "id": "6lSQ-w6EeRNB"
   },
   "outputs": [],
   "source": [
    "def equals_10(num):\n",
    "  # add code"
   ]
  },
  {
   "cell_type": "markdown",
   "metadata": {
    "id": "cE0zQPQoeRNB"
   },
   "source": [
    "##### **Solution:**"
   ]
  },
  {
   "cell_type": "code",
   "execution_count": null,
   "metadata": {
    "id": "BfPTX0zleRNC"
   },
   "outputs": [],
   "source": [
    "def equals_10(num):\n",
    "\n",
    "  return num == 10"
   ]
  },
  {
   "cell_type": "markdown",
   "metadata": {
    "id": "aBT5kcMXejxi"
   },
   "source": [
    "#### **Exercise #12:** Complete the function below so that it prints out the two arguments (`name1` and `name2`) on their own lines and returns the string \"Welcome, [name 1] and [name 2]\"."
   ]
  },
  {
   "cell_type": "code",
   "execution_count": null,
   "metadata": {
    "id": "DFzvvMzdejxj"
   },
   "outputs": [],
   "source": [
    "def welcome(name1, name2):\n",
    "\n",
    "  # print arguments on separate lines\n",
    "\n",
    "  # return welcome message"
   ]
  },
  {
   "cell_type": "markdown",
   "metadata": {
    "id": "QFVDIHWTejxj"
   },
   "source": [
    "##### **Solution:**"
   ]
  },
  {
   "cell_type": "code",
   "execution_count": null,
   "metadata": {
    "id": "1pbe3dtfejxk"
   },
   "outputs": [],
   "source": [
    "def welcome(name1, name2):\n",
    "\n",
    "  print(name1)\n",
    "  print(name2)\n",
    "\n",
    "  return \"Welcome, \" + name1 + \" and \" + name2"
   ]
  },
  {
   "cell_type": "markdown",
   "metadata": {
    "id": "22mpq77161UB"
   },
   "source": [
    "### **Optional Problems**\n",
    "If you would like additional practice, try these problems below. "
   ]
  },
  {
   "cell_type": "markdown",
   "metadata": {
    "id": "WdBTuDMiVpY0"
   },
   "source": [
    "#### **Exercise #1:** You want to buy new clothes, on a budget of course! You have a budget of \\$100 and end up buying 3 shirts for \\$11 each, 4 pairs of socks for \\$2.57 each, and 1 pair of pants for \\$15.99. \n",
    "\n",
    "Complete the code below to calculate the difference between your budget and what you spent."
   ]
  },
  {
   "cell_type": "code",
   "execution_count": null,
   "metadata": {
    "id": "Ep8m4nkcVpY1"
   },
   "outputs": [],
   "source": [
    "budget = \n",
    "\n",
    "num_shirts =\n",
    "cost_per_shirt =\n",
    "num_socks =\n",
    "cost_per_socks =\n",
    "num_pants =\n",
    "cost_per_pants =\n",
    "\n",
    "total =\n",
    "\n",
    "print()"
   ]
  },
  {
   "cell_type": "markdown",
   "metadata": {
    "id": "BNO4TciQVpY1"
   },
   "source": [
    "##### **Solution:**"
   ]
  },
  {
   "cell_type": "code",
   "execution_count": null,
   "metadata": {
    "id": "nb58DisoVpY1"
   },
   "outputs": [],
   "source": [
    "budget = 100\n",
    "\n",
    "num_shirts = 3\n",
    "cost_per_shirt = 11\n",
    "num_socks = 4\n",
    "cost_per_socks = 2.57\n",
    "num_pants = 1\n",
    "cost_per_pants = 15.99\n",
    "\n",
    "total = num_shirts*cost_per_shirt + num_socks*cost_per_socks + num_pants*cost_per_pants\n",
    "print(budget - total)"
   ]
  },
  {
   "cell_type": "markdown",
   "metadata": {
    "id": "X2nI-hL8WCk6"
   },
   "source": [
    "#### **Exercise #2:** Comment out lines below so that the message \"Welcome to week 2 of Quantum Computing\" is printed."
   ]
  },
  {
   "cell_type": "code",
   "execution_count": null,
   "metadata": {
    "id": "V4cHNpXbWCk6"
   },
   "outputs": [],
   "source": [
    "course = \"Quantum Computing\"\n",
    "\n",
    "print(\"Welcome\")\n",
    "print(\"to week\")\n",
    "print(1)\n",
    "print(4)\n",
    "print(2)\n",
    "print(3)\n",
    "print(\"off\")\n",
    "print(\"of\")\n",
    "print(\"off\")\n",
    "print(\"Classical\")\n",
    "print(course)\n",
    "print(\"Computing\")"
   ]
  },
  {
   "cell_type": "markdown",
   "metadata": {
    "id": "bFxPccPpWCk6"
   },
   "source": [
    "##### **Solution:**"
   ]
  },
  {
   "cell_type": "code",
   "execution_count": null,
   "metadata": {
    "id": "o7fruB3CWCk6"
   },
   "outputs": [],
   "source": [
    "course = \"Quantum Computing\"\n",
    "\n",
    "print(\"Welcome\")\n",
    "print(\"to week\")\n",
    "#print(1)\n",
    "#print(4)\n",
    "print(2)\n",
    "#print(3)\n",
    "#print(\"off\")\n",
    "print(\"of\")\n",
    "#print(\"off\")\n",
    "#print(\"Classical\")\n",
    "print(course)\n",
    "#print(\"Computing\")"
   ]
  },
  {
   "cell_type": "markdown",
   "metadata": {
    "id": "3SoiyxROWCk6"
   },
   "source": [
    "#### **Exercise #3:** The code below is fully written and working as intended. But, it needs comments explaining what it is doing! Write one sentence in each blank comment explaining the code beneath it. The first comment is already completed for you. NOTE: there are many correct answers to this problem! Just make your comments are brief and helpful."
   ]
  },
  {
   "cell_type": "code",
   "execution_count": null,
   "metadata": {
    "id": "w6iVQGm_WCk6"
   },
   "outputs": [],
   "source": [
    "# set my age and my friend's age\n",
    "my_age = 30\n",
    "friends_age = 34\n",
    "\n",
    "# FILL THIS IN\n",
    "my_age = my_age * 12\n",
    "friends_age = friends_age * 12\n",
    "\n",
    "# FILL THIS IN\n",
    "diff = friends_age - my_age\n",
    "print(diff)"
   ]
  },
  {
   "cell_type": "markdown",
   "metadata": {
    "id": "wb2VJy6bWCk6"
   },
   "source": [
    "##### **Solution:**"
   ]
  },
  {
   "cell_type": "code",
   "execution_count": null,
   "metadata": {
    "id": "NHkWFLc_WCk6"
   },
   "outputs": [],
   "source": [
    "# set my age and my friend's age\n",
    "my_age = 30\n",
    "friends_age = 34\n",
    "\n",
    "# calculate our ages from years to months\n",
    "my_age = my_age * 12\n",
    "friends_age = friends_age * 12\n",
    "\n",
    "# calculate and print the difference of our ages in months\n",
    "diff = friends_age - my_age\n",
    "print(diff)"
   ]
  },
  {
   "cell_type": "markdown",
   "metadata": {
    "id": "xY54dbQKfJ0H"
   },
   "source": [
    "#### **Exercise #4:** Print the 0th element of the list below."
   ]
  },
  {
   "cell_type": "code",
   "execution_count": null,
   "metadata": {
    "id": "4iXIaUAIfJ0R"
   },
   "outputs": [],
   "source": [
    "my_list = [\"apples\", \"pears\", \"bananas\"]"
   ]
  },
  {
   "cell_type": "markdown",
   "metadata": {
    "id": "e5sXXzS6fJ0R"
   },
   "source": [
    "##### **Solution:**"
   ]
  },
  {
   "cell_type": "code",
   "execution_count": null,
   "metadata": {
    "id": "fcpsef-_fJ0R"
   },
   "outputs": [],
   "source": [
    "my_list = [\"apples\", \"pears\", \"bananas\"]\n",
    "print(my_list[0])"
   ]
  },
  {
   "cell_type": "markdown",
   "metadata": {
    "id": "XpYVxnaSftfi"
   },
   "source": [
    "#### **Exercise #5:** Modify the list below so that it looks like: [1, 2, 3, 4]."
   ]
  },
  {
   "cell_type": "code",
   "execution_count": null,
   "metadata": {
    "id": "xnByWbV8ftfj"
   },
   "outputs": [],
   "source": [
    "my_list = [0, 1, 2, 5]\n"
   ]
  },
  {
   "cell_type": "markdown",
   "metadata": {
    "id": "WNxu_dmzftfj"
   },
   "source": [
    "##### **Solution:**"
   ]
  },
  {
   "cell_type": "code",
   "execution_count": null,
   "metadata": {
    "colab": {
     "base_uri": "https://localhost:8080/"
    },
    "id": "XDu083N9ftfj",
    "outputId": "2def1761-bf05-4c6d-e329-9635c41d2c30"
   },
   "outputs": [
    {
     "name": "stdout",
     "output_type": "stream",
     "text": [
      "[1, 2, 3, 4]\n"
     ]
    }
   ],
   "source": [
    "my_list = [0, 1, 2, 5]\n",
    "\n",
    "my_list.remove(0)\n",
    "my_list.remove(5)\n",
    "my_list.append(3)\n",
    "my_list.append(4)\n",
    "print(my_list)"
   ]
  },
  {
   "cell_type": "markdown",
   "metadata": {
    "id": "yxC5vdLkfaiA"
   },
   "source": [
    "#### **Exercise #6:** Multiply the elements of the list below and print the result."
   ]
  },
  {
   "cell_type": "code",
   "execution_count": null,
   "metadata": {
    "id": "dWGcbfu6faiB"
   },
   "outputs": [],
   "source": [
    "my_list = [-0.5, 1000, -2]"
   ]
  },
  {
   "cell_type": "markdown",
   "metadata": {
    "id": "01Mj8D3XfaiC"
   },
   "source": [
    "##### **Solution:**"
   ]
  },
  {
   "cell_type": "code",
   "execution_count": null,
   "metadata": {
    "id": "beYFGis-faiC"
   },
   "outputs": [],
   "source": [
    "my_list = [-0.5, 1000, -2]\n",
    "\n",
    "prod = my_list[0] * my_list[1] * my_list[2]\n",
    "print(prod)"
   ]
  },
  {
   "cell_type": "markdown",
   "metadata": {
    "id": "3NKMjhAphyeZ"
   },
   "source": [
    "#### **Challenge:** Comment out lines below so that the function returns a string with only the first three elements of the list provided."
   ]
  },
  {
   "cell_type": "code",
   "execution_count": null,
   "metadata": {
    "id": "M6Aunk0Whyei"
   },
   "outputs": [],
   "source": [
    "def first_3_string(my_list):\n",
    "\n",
    "  out = \"\"\n",
    "  out = out + \" \" + str(my_list)\n",
    "  out = out + \" \" + str(my_list[3])\n",
    "  out = out + \" \" + str(my_list[0])\n",
    "  out = out + \" \" + str(my_list[4])\n",
    "  out = out + \" \" + str(my_list[3])\n",
    "  out = out + \" \" + str(my_list[1])\n",
    "  out = out + \" \" + str(my_list[3])\n",
    "  out = out + \" \" + str(my_list[2])\n",
    "\n",
    "  return out"
   ]
  },
  {
   "cell_type": "markdown",
   "metadata": {
    "id": "PiByr52Phyej"
   },
   "source": [
    "##### **Solution:**"
   ]
  },
  {
   "cell_type": "code",
   "execution_count": null,
   "metadata": {
    "id": "g4Bfq6cFhyej"
   },
   "outputs": [],
   "source": [
    "def first_3_string(my_list):\n",
    "\n",
    "  out = \"\"\n",
    "  #out = out + \" \" + str(my_list)\n",
    "  #out = out + \" \" + str(my_list[3])\n",
    "  out = out + \" \" + str(my_list[0])\n",
    "  #out = out + \" \" + str(my_list[4])\n",
    "  #out = out + \" \" + str(my_list[3])\n",
    "  out = out + \" \" + str(my_list[1])\n",
    "  #out = out + \" \" + str(my_list[3])\n",
    "  out = out + \" \" + str(my_list[2])\n",
    "\n",
    "  return out"
   ]
  },
  {
   "cell_type": "markdown",
   "metadata": {
    "id": "Zwmzj6kSi7nv"
   },
   "source": [
    "---\n",
    "© 2022 The Coding School, All rights reserved"
   ]
  }
 ],
 "metadata": {
  "colab": {
   "collapsed_sections": [
    "XEII7aALXP4q",
    "F91f5ZDuVo_g",
    "2BJz9-uvVpGi",
    "DYUKOJHZVpUR",
    "WdBTuDMiVpY0",
    "ECGof-SAVpeE",
    "LC33VVwdWCk5",
    "Q4ODMtwSWCk5",
    "MgDIZz52WCk6",
    "X2nI-hL8WCk6",
    "3SoiyxROWCk6",
    "7ibIwi7hde3d",
    "HAiEbDgzeRNB",
    "aBT5kcMXejxi",
    "xY54dbQKfJ0H",
    "yxC5vdLkfaiA",
    "XpYVxnaSftfi",
    "p1HTQGRwi7nt",
    "A0ljpx5-j1Bo",
    "n-OmBy6v8o-c",
    "3NKMjhAphyeZ"
   ],
   "provenance": []
  },
  "kernelspec": {
   "display_name": "Python 3 (ipykernel)",
   "language": "python",
   "name": "python3"
  },
  "language_info": {
   "codemirror_mode": {
    "name": "ipython",
    "version": 3
   },
   "file_extension": ".py",
   "mimetype": "text/x-python",
   "name": "python",
   "nbconvert_exporter": "python",
   "pygments_lexer": "ipython3",
   "version": "3.8.13"
  },
  "widgets": {
   "application/vnd.jupyter.widget-state+json": {
    "state": {},
    "version_major": 2,
    "version_minor": 0
   }
  }
 },
 "nbformat": 4,
 "nbformat_minor": 4
}
